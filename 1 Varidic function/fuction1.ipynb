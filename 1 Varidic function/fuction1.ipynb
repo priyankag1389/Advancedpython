{
 "cells": [
  {
   "cell_type": "code",
   "execution_count": 1,
   "metadata": {},
   "outputs": [],
   "source": [
    "# Functions Variadic\n",
    "def multiply(a: int|float, b: int|float) -> int|float:\n",
    "    m = a*b\n",
    "    return m\n"
   ]
  },
  {
   "cell_type": "code",
   "execution_count": 2,
   "metadata": {},
   "outputs": [
    {
     "data": {
      "text/plain": [
       "12"
      ]
     },
     "execution_count": 2,
     "metadata": {},
     "output_type": "execute_result"
    }
   ],
   "source": [
    "multiply(3,4)\n"
   ]
  },
  {
   "cell_type": "code",
   "execution_count": 3,
   "metadata": {},
   "outputs": [
    {
     "data": {
      "text/plain": [
       "16.25"
      ]
     },
     "execution_count": 3,
     "metadata": {},
     "output_type": "execute_result"
    }
   ],
   "source": [
    "multiply(a=12.5 , b=1.3)"
   ]
  },
  {
   "cell_type": "code",
   "execution_count": 4,
   "metadata": {},
   "outputs": [],
   "source": [
    "def func1(*args):\n",
    "    print(args)\n",
    "    print(type(args))\n",
    "    for i in args:\n",
    "        print(i)\n"
   ]
  },
  {
   "cell_type": "code",
   "execution_count": 5,
   "metadata": {},
   "outputs": [
    {
     "name": "stdout",
     "output_type": "stream",
     "text": [
      "(1, 2, 'Example')\n",
      "<class 'tuple'>\n",
      "1\n",
      "2\n",
      "Example\n"
     ]
    }
   ],
   "source": [
    "func1(1, 2, \"Example\")"
   ]
  },
  {
   "cell_type": "code",
   "execution_count": 6,
   "metadata": {},
   "outputs": [
    {
     "name": "stdout",
     "output_type": "stream",
     "text": [
      "(1, 2, False, True, 'A', 14.5, 12.5)\n",
      "<class 'tuple'>\n",
      "1\n",
      "2\n",
      "False\n",
      "True\n",
      "A\n",
      "14.5\n",
      "12.5\n"
     ]
    }
   ],
   "source": [
    "func1(1, 2, False, True, \"A\", 14.5, 12.5)"
   ]
  },
  {
   "cell_type": "code",
   "execution_count": 7,
   "metadata": {},
   "outputs": [
    {
     "name": "stdout",
     "output_type": "stream",
     "text": [
      "(2,)\n",
      "<class 'tuple'>\n",
      "2\n"
     ]
    }
   ],
   "source": [
    "func1(2)"
   ]
  },
  {
   "cell_type": "code",
   "execution_count": 8,
   "metadata": {},
   "outputs": [],
   "source": [
    "b = [1, 2, \"Example\", 4.5, 11.2, False]"
   ]
  },
  {
   "cell_type": "code",
   "execution_count": 9,
   "metadata": {},
   "outputs": [
    {
     "name": "stdout",
     "output_type": "stream",
     "text": [
      "(1, 2, 'Example', 4.5, 11.2, False)\n",
      "<class 'tuple'>\n",
      "1\n",
      "2\n",
      "Example\n",
      "4.5\n",
      "11.2\n",
      "False\n"
     ]
    }
   ],
   "source": [
    "func1(*b)"
   ]
  },
  {
   "cell_type": "code",
   "execution_count": 10,
   "metadata": {},
   "outputs": [],
   "source": [
    "def product(*args):\n",
    "    # Initalzie the prodcut to 1\n",
    "    p = 1\n",
    "\n",
    "    # Apply for loop on args\n",
    "    for i in args:\n",
    "        p = p*i\n",
    "    \n",
    "    # Return the product\n",
    "    return p"
   ]
  },
  {
   "cell_type": "code",
   "execution_count": 11,
   "metadata": {},
   "outputs": [
    {
     "data": {
      "text/plain": [
       "15"
      ]
     },
     "execution_count": 11,
     "metadata": {},
     "output_type": "execute_result"
    }
   ],
   "source": [
    "product(3, 5)"
   ]
  },
  {
   "cell_type": "code",
   "execution_count": 12,
   "metadata": {},
   "outputs": [
    {
     "data": {
      "text/plain": [
       "16.2"
      ]
     },
     "execution_count": 12,
     "metadata": {},
     "output_type": "execute_result"
    }
   ],
   "source": [
    "product(4.5, 1.2, 3)"
   ]
  },
  {
   "cell_type": "code",
   "execution_count": 13,
   "metadata": {},
   "outputs": [
    {
     "data": {
      "text/plain": [
       "23760"
      ]
     },
     "execution_count": 13,
     "metadata": {},
     "output_type": "execute_result"
    }
   ],
   "source": [
    "\n",
    "product(1, 2, 3, 4, 9, 10, 11)"
   ]
  },
  {
   "cell_type": "code",
   "execution_count": 14,
   "metadata": {},
   "outputs": [
    {
     "name": "stdout",
     "output_type": "stream",
     "text": [
      "[1, 2, 3, 4, 5, 6, 7, 8, 9, 10, 11, 12, 13, 14, 15, 16, 17, 18, 19, 20, 21, 22, 23, 24]\n"
     ]
    }
   ],
   "source": [
    "a = list(range(1, 25))\n",
    "print(a)"
   ]
  },
  {
   "cell_type": "code",
   "execution_count": 15,
   "metadata": {},
   "outputs": [
    {
     "data": {
      "text/plain": [
       "620448401733239439360000"
      ]
     },
     "execution_count": 15,
     "metadata": {},
     "output_type": "execute_result"
    }
   ],
   "source": [
    "product(*a)"
   ]
  },
  {
   "cell_type": "code",
   "execution_count": 16,
   "metadata": {},
   "outputs": [
    {
     "ename": "SyntaxError",
     "evalue": "invalid syntax (1262522683.py, line 1)",
     "output_type": "error",
     "traceback": [
      "\u001b[1;36m  Cell \u001b[1;32mIn[16], line 1\u001b[1;36m\u001b[0m\n\u001b[1;33m    Billing example\u001b[0m\n\u001b[1;37m            ^\u001b[0m\n\u001b[1;31mSyntaxError\u001b[0m\u001b[1;31m:\u001b[0m invalid syntax\n"
     ]
    }
   ],
   "source": [
    "Billing example\n",
    "Input [(productname, price, qty), (..)]\n",
    "Perform billing and add 18% tax on base total"
   ]
  },
  {
   "cell_type": "code",
   "execution_count": 17,
   "metadata": {},
   "outputs": [],
   "source": [
    "c1 = [\n",
    "    (\"Mobile\", 45000, 1),\n",
    "    (\"Screen Guard\", 1000, 2),\n",
    "    (\"Mobile Cover\", 300, 2)\n",
    "]"
   ]
  },
  {
   "cell_type": "code",
   "execution_count": 18,
   "metadata": {},
   "outputs": [],
   "source": [
    "def billing(tax_rate: int|float, *args):\n",
    "    # Intialize base total to 0\n",
    "    base_total = 0\n",
    "\n",
    "    # Apply for loop on args\n",
    "    for name, price, qty in args:\n",
    "        item_total = price*qty\n",
    "        base_total = base_total + item_total\n",
    "        print(f\"Product Name : {name}, Price : {price} INR, Qty : {qty} Nos\")\n",
    "        print(f\"Item total : {item_total:.2f} INR\")\n",
    "        print(\"\\n==================================================================\\n\")\n",
    "\n",
    "    # Apply tax rate on base total\n",
    "    tax = (tax_rate/100)*base_total\n",
    "\n",
    "    # Calculate final amount\n",
    "    final_total = base_total + tax\n",
    "\n",
    "    # Print the tax and final total\n",
    "    print(f\"Tax : {tax:.2f} INR\")\n",
    "    print(f\"Final Total : {final_total:.2f} INR\")\n",
    "\n",
    "    return final_total"
   ]
  },
  {
   "cell_type": "code",
   "execution_count": 19,
   "metadata": {},
   "outputs": [
    {
     "data": {
      "text/plain": [
       "[('Mobile', 45000, 1), ('Screen Guard', 1000, 2), ('Mobile Cover', 300, 2)]"
      ]
     },
     "execution_count": 19,
     "metadata": {},
     "output_type": "execute_result"
    }
   ],
   "source": [
    "c1"
   ]
  },
  {
   "cell_type": "code",
   "execution_count": 20,
   "metadata": {},
   "outputs": [
    {
     "name": "stdout",
     "output_type": "stream",
     "text": [
      "Product Name : Mobile, Price : 45000 INR, Qty : 1 Nos\n",
      "Item total : 45000.00 INR\n",
      "\n",
      "==================================================================\n",
      "\n",
      "Product Name : Screen Guard, Price : 1000 INR, Qty : 2 Nos\n",
      "Item total : 2000.00 INR\n",
      "\n",
      "==================================================================\n",
      "\n",
      "Product Name : Mobile Cover, Price : 300 INR, Qty : 2 Nos\n",
      "Item total : 600.00 INR\n",
      "\n",
      "==================================================================\n",
      "\n",
      "Tax : 8568.00 INR\n",
      "Final Total : 56168.00 INR\n"
     ]
    }
   ],
   "source": [
    "bill1 = billing(18, *c1)"
   ]
  },
  {
   "cell_type": "code",
   "execution_count": 21,
   "metadata": {},
   "outputs": [
    {
     "data": {
      "text/plain": [
       "56168.0"
      ]
     },
     "execution_count": 21,
     "metadata": {},
     "output_type": "execute_result"
    }
   ],
   "source": [
    "bill1"
   ]
  },
  {
   "cell_type": "code",
   "execution_count": 22,
   "metadata": {},
   "outputs": [
    {
     "name": "stdout",
     "output_type": "stream",
     "text": [
      "Product Name : Laptop, Price : 67000 INR, Qty : 2 Nos\n",
      "Item total : 134000.00 INR\n",
      "\n",
      "==================================================================\n",
      "\n",
      "Product Name : Mouse, Price : 500 INR, Qty : 4 Nos\n",
      "Item total : 2000.00 INR\n",
      "\n",
      "==================================================================\n",
      "\n",
      "Product Name : Keyboard, Price : 1200 INR, Qty : 1 Nos\n",
      "Item total : 1200.00 INR\n",
      "\n",
      "==================================================================\n",
      "\n",
      "Product Name : VR headset, Price : 12000 INR, Qty : 1 Nos\n",
      "Item total : 12000.00 INR\n",
      "\n",
      "==================================================================\n",
      "\n",
      "Tax : 26856.00 INR\n",
      "Final Total : 176056.00 INR\n"
     ]
    }
   ],
   "source": [
    "bill2 = billing(\n",
    "    18,\n",
    "    (\"Laptop\", 67000, 2),\n",
    "    (\"Mouse\", 500, 4),\n",
    "    (\"Keyboard\", 1200, 1),\n",
    "    (\"VR headset\", 12000, 1)\n",
    ")\n"
   ]
  },
  {
   "cell_type": "code",
   "execution_count": 23,
   "metadata": {},
   "outputs": [
    {
     "data": {
      "text/plain": [
       "176056.0"
      ]
     },
     "execution_count": 23,
     "metadata": {},
     "output_type": "execute_result"
    }
   ],
   "source": [
    "bill2"
   ]
  },
  {
   "cell_type": "code",
   "execution_count": 24,
   "metadata": {},
   "outputs": [
    {
     "ename": "SyntaxError",
     "evalue": "invalid syntax (1371965603.py, line 2)",
     "output_type": "error",
     "traceback": [
      "\u001b[1;36m  Cell \u001b[1;32mIn[24], line 2\u001b[1;36m\u001b[0m\n\u001b[1;33m    **kwargs - This acts like a dictionary in python\u001b[0m\n\u001b[1;37m    ^\u001b[0m\n\u001b[1;31mSyntaxError\u001b[0m\u001b[1;31m:\u001b[0m invalid syntax\n"
     ]
    }
   ],
   "source": [
    "##Declare kwargs in python\n",
    "**kwargs - This acts like a dictionary in python"
   ]
  },
  {
   "cell_type": "code",
   "execution_count": 25,
   "metadata": {},
   "outputs": [],
   "source": [
    "def func2(**kwargs):\n",
    "    print(kwargs)\n",
    "    print(type(kwargs))\n",
    "    for key, value in kwargs.items():\n",
    "        print(f\"Key : {key}, Value : {value}\")"
   ]
  },
  {
   "cell_type": "code",
   "execution_count": 26,
   "metadata": {},
   "outputs": [
    {
     "name": "stdout",
     "output_type": "stream",
     "text": [
      "{'name': 'Rahul', 'age': 28}\n",
      "<class 'dict'>\n",
      "Key : name, Value : Rahul\n",
      "Key : age, Value : 28\n"
     ]
    }
   ],
   "source": [
    "func2(name=\"Rahul\", age=28)"
   ]
  },
  {
   "cell_type": "code",
   "execution_count": 27,
   "metadata": {},
   "outputs": [
    {
     "name": "stdout",
     "output_type": "stream",
     "text": [
      "{'name': 'Aditi', 'age': 32, 'email': 'aditi@gmail.com', 'blood_group': 'A+ve'}\n",
      "<class 'dict'>\n",
      "Key : name, Value : Aditi\n",
      "Key : age, Value : 32\n",
      "Key : email, Value : aditi@gmail.com\n",
      "Key : blood_group, Value : A+ve\n"
     ]
    }
   ],
   "source": [
    "func2(name=\"Aditi\", age=32, email=\"aditi@gmail.com\", blood_group = \"A+ve\")"
   ]
  },
  {
   "cell_type": "code",
   "execution_count": 28,
   "metadata": {},
   "outputs": [],
   "source": [
    "## Using the kwargs to create users with varied information\n",
    "def create_user(**kwargs):\n",
    "    user = {\n",
    "        \"name\": \"Not Available\",\n",
    "        \"age\": \"Not Available\",\n",
    "        \"occupation\": \"Not Available\",\n",
    "        \"email\": \"Not Available\"\n",
    "    }\n",
    "\n",
    "    user.update(kwargs)\n",
    "\n",
    "    return user"
   ]
  },
  {
   "cell_type": "code",
   "execution_count": 29,
   "metadata": {},
   "outputs": [],
   "source": [
    "u1 = create_user(name= \"Rakesh\", age=32)"
   ]
  },
  {
   "cell_type": "code",
   "execution_count": 30,
   "metadata": {},
   "outputs": [
    {
     "data": {
      "text/plain": [
       "{'name': 'Rakesh',\n",
       " 'age': 32,\n",
       " 'occupation': 'Not Available',\n",
       " 'email': 'Not Available'}"
      ]
     },
     "execution_count": 30,
     "metadata": {},
     "output_type": "execute_result"
    }
   ],
   "source": [
    "u1"
   ]
  },
  {
   "cell_type": "code",
   "execution_count": 31,
   "metadata": {},
   "outputs": [],
   "source": [
    "u2 = create_user(\n",
    "    name = \"Tejas\",\n",
    "    age = 25,\n",
    "    occupation = \"HR\",\n",
    "    email = \"tejas@gmail.com\",\n",
    "    contact = 9876543210,\n",
    "    blood_group = \"B+ve\"\n",
    ")\n"
   ]
  },
  {
   "cell_type": "code",
   "execution_count": 32,
   "metadata": {},
   "outputs": [
    {
     "data": {
      "text/plain": [
       "{'name': 'Tejas',\n",
       " 'age': 25,\n",
       " 'occupation': 'HR',\n",
       " 'email': 'tejas@gmail.com',\n",
       " 'contact': 9876543210,\n",
       " 'blood_group': 'B+ve'}"
      ]
     },
     "execution_count": 32,
     "metadata": {},
     "output_type": "execute_result"
    }
   ],
   "source": [
    "u2"
   ]
  },
  {
   "cell_type": "code",
   "execution_count": null,
   "metadata": {},
   "outputs": [],
   "source": [
    "##Commiting in github with terminal\n",
    "1. git add .\n",
    "2. git commit -m \"any message\"\n",
    "3.git push\n"
   ]
  }
 ],
 "metadata": {
  "kernelspec": {
   "display_name": "venv",
   "language": "python",
   "name": "python3"
  },
  "language_info": {
   "codemirror_mode": {
    "name": "ipython",
    "version": 3
   },
   "file_extension": ".py",
   "mimetype": "text/x-python",
   "name": "python",
   "nbconvert_exporter": "python",
   "pygments_lexer": "ipython3",
   "version": "3.13.1"
  }
 },
 "nbformat": 4,
 "nbformat_minor": 2
}
